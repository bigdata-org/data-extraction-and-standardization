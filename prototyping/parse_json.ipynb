{
 "cells": [
  {
   "cell_type": "code",
   "execution_count": 1,
   "metadata": {},
   "outputs": [
    {
     "data": {
      "text/plain": [
       "True"
      ]
     },
     "execution_count": 1,
     "metadata": {},
     "output_type": "execute_result"
    }
   ],
   "source": [
    "import os\n",
    "import json\n",
    "import os\n",
    "import sys\n",
    "import pandas as pd\n",
    "\n",
    "notebook_dir = os.getcwd()\n",
    "sys.path.append(os.path.abspath(os.path.join(notebook_dir, '..')))\n",
    "\n",
    "from dotenv import load_dotenv\n",
    "load_dotenv()"
   ]
  },
  {
   "cell_type": "code",
   "execution_count": 2,
   "metadata": {},
   "outputs": [],
   "source": [
    "from utils.s3 import get_s3_client, read_pdf_from_s3, write_dataframe_to_s3\n",
    "from utils.azure_extract import extract_figures"
   ]
  },
  {
   "cell_type": "code",
   "execution_count": 3,
   "metadata": {},
   "outputs": [],
   "source": [
    "\n",
    "url = 'https://sfopenaccessbucket.s3.us-east-1.amazonaws.com/uploads/Snowflake_Components_Installation_Guide.pdf'\n",
    "\n",
    "pdf_data = read_pdf_from_s3(get_s3_client(), url)"
   ]
  },
  {
   "cell_type": "code",
   "execution_count": 4,
   "metadata": {},
   "outputs": [],
   "source": [
    "parent_file = url.split('/uploads/')[1]"
   ]
  },
  {
   "cell_type": "code",
   "execution_count": 5,
   "metadata": {},
   "outputs": [],
   "source": [
    "with open('data.json', 'r') as f:\n",
    "    data = json.load(f)"
   ]
  },
  {
   "cell_type": "code",
   "execution_count": 6,
   "metadata": {},
   "outputs": [],
   "source": [
    "s3_client = get_s3_client()"
   ]
  },
  {
   "cell_type": "code",
   "execution_count": 8,
   "metadata": {},
   "outputs": [],
   "source": [
    "log=[]"
   ]
  },
  {
   "cell_type": "code",
   "execution_count": 9,
   "metadata": {},
   "outputs": [
    {
     "name": "stdout",
     "output_type": "stream",
     "text": [
      "https://sfopenaccessbucket.s3.us-east-1.amazonaws.com/results/Snowflake_Components_Installation_Guide.pdf/1/images/1.jpeg\n",
      "https://sfopenaccessbucket.s3.us-east-1.amazonaws.com/results/Snowflake_Components_Installation_Guide.pdf/1/images/2.jpeg\n",
      "https://sfopenaccessbucket.s3.us-east-1.amazonaws.com/results/Snowflake_Components_Installation_Guide.pdf/2/images/1.jpeg\n",
      "https://sfopenaccessbucket.s3.us-east-1.amazonaws.com/results/Snowflake_Components_Installation_Guide.pdf/3/images/1.jpeg\n",
      "https://sfopenaccessbucket.s3.us-east-1.amazonaws.com/results/Snowflake_Components_Installation_Guide.pdf/4/images/1.jpeg\n",
      "https://sfopenaccessbucket.s3.us-east-1.amazonaws.com/results/Snowflake_Components_Installation_Guide.pdf/4/images/2.jpeg\n"
     ]
    }
   ],
   "source": [
    "for d in data['figures']:\n",
    "    _p = d['id'].split('.')\n",
    "    page_num, fig_num = int(_p[0]), int(_p[1])\n",
    "    _l = extract_figures(s3_client=s3_client,\n",
    "                         pdf_data=pdf_data,\n",
    "                         parent_file=parent_file,\n",
    "                         page_num=page_num,\n",
    "                         id=fig_num,\n",
    "                         polygon=d['boundingRegions'][0]['polygon']\n",
    "                         ) \n",
    "    print(_l)\n",
    "    log.append(f'Write (Image) : {_l}')   \n",
    "    # print(d)"
   ]
  },
  {
   "cell_type": "code",
   "execution_count": 31,
   "metadata": {},
   "outputs": [],
   "source": [
    "extract = lambda x: [i['content'] for i in x]\n",
    "t_index=dict()\n",
    "for table in data['tables']:\n",
    "    # _p = d['id'].split('.')\n",
    "    # page_num, fig_num = int(_p[0]), int(_p[1])\n",
    "    # print(_l)\n",
    "    page_num = table['cells'][0]['boundingRegions'][0]['pageNumber'] \n",
    "    if page_num not in t_index:\n",
    "        t_index[page_num]=1\n",
    "    _table=[]       \n",
    "    for _ in range(0,len(table['cells']), table['columnCount']):\n",
    "        _table.append(extract(table['cells'][_ : _+table['columnCount']]))\n",
    "    df = pd.DataFrame(_table[1:], columns=_table[0])\n",
    "    _l = write_dataframe_to_s3(s3_client=s3_client,\n",
    "                            df=df,\n",
    "                            parent_file=parent_file,\n",
    "                            page_num=page_num,\n",
    "                            id=t_index[page_num]\n",
    "                            )\n",
    "    t_index[page_num] = t_index[page_num]+1\n",
    "    log.append(f'Write (Table) : {_l}')   \n"
   ]
  },
  {
   "cell_type": "code",
   "execution_count": 32,
   "metadata": {},
   "outputs": [
    {
     "data": {
      "text/plain": [
       "['Write (Image) : https://sfopenaccessbucket.s3.us-east-1.amazonaws.com/results/Snowflake_Components_Installation_Guide.pdf/1/images/1.jpeg',\n",
       " 'Write (Image) : https://sfopenaccessbucket.s3.us-east-1.amazonaws.com/results/Snowflake_Components_Installation_Guide.pdf/1/images/2.jpeg',\n",
       " 'Write (Image) : https://sfopenaccessbucket.s3.us-east-1.amazonaws.com/results/Snowflake_Components_Installation_Guide.pdf/2/images/1.jpeg',\n",
       " 'Write (Image) : https://sfopenaccessbucket.s3.us-east-1.amazonaws.com/results/Snowflake_Components_Installation_Guide.pdf/3/images/1.jpeg',\n",
       " 'Write (Image) : https://sfopenaccessbucket.s3.us-east-1.amazonaws.com/results/Snowflake_Components_Installation_Guide.pdf/4/images/1.jpeg',\n",
       " 'Write (Image) : https://sfopenaccessbucket.s3.us-east-1.amazonaws.com/results/Snowflake_Components_Installation_Guide.pdf/4/images/2.jpeg',\n",
       " 'Write (Table) : https://sfopenaccessbucket.s3.us-east-1.amazonaws.com/results/Snowflake_Components_Installation_Guide.pdf/2/tables/1.csv',\n",
       " 'Write (Table) : https://sfopenaccessbucket.s3.us-east-1.amazonaws.com/results/Snowflake_Components_Installation_Guide.pdf/2/tables/2.csv',\n",
       " 'Write (Table) : https://sfopenaccessbucket.s3.us-east-1.amazonaws.com/results/Snowflake_Components_Installation_Guide.pdf/4/tables/1.csv',\n",
       " 'Write (Table) : https://sfopenaccessbucket.s3.us-east-1.amazonaws.com/results/Snowflake_Components_Installation_Guide.pdf/2/tables/1.csv',\n",
       " 'Write (Table) : https://sfopenaccessbucket.s3.us-east-1.amazonaws.com/results/Snowflake_Components_Installation_Guide.pdf/2/tables/2.csv',\n",
       " 'Write (Table) : https://sfopenaccessbucket.s3.us-east-1.amazonaws.com/results/Snowflake_Components_Installation_Guide.pdf/4/tables/1.csv']"
      ]
     },
     "execution_count": 32,
     "metadata": {},
     "output_type": "execute_result"
    }
   ],
   "source": [
    "log"
   ]
  }
 ],
 "metadata": {
  "kernelspec": {
   "display_name": ".venv",
   "language": "python",
   "name": "python3"
  },
  "language_info": {
   "codemirror_mode": {
    "name": "ipython",
    "version": 3
   },
   "file_extension": ".py",
   "mimetype": "text/x-python",
   "name": "python",
   "nbconvert_exporter": "python",
   "pygments_lexer": "ipython3",
   "version": "3.12.3"
  }
 },
 "nbformat": 4,
 "nbformat_minor": 2
}
