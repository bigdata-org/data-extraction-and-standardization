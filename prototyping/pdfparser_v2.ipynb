{
 "cells": [
  {
   "cell_type": "code",
   "execution_count": 12,
   "metadata": {},
   "outputs": [],
   "source": [
    "# !pip install pypdf\n",
    "# pip install pandas \n",
    "# !pip install pdfplumber\n",
    "# !pip install docling \n",
    "# !pip install \"camelot-py[base]\""
   ]
  },
  {
   "cell_type": "code",
   "execution_count": 9,
   "metadata": {},
   "outputs": [],
   "source": [
    "from pypdf import PdfReader\n",
    "import os \n",
    "import pdfplumber\n",
    "import pandas as pd \n",
    "import camelot\n"
   ]
  },
  {
   "cell_type": "markdown",
   "metadata": {},
   "source": [
    "### Extract tables from Pdf using pdfplumber"
   ]
  },
  {
   "cell_type": "code",
   "execution_count": 41,
   "metadata": {},
   "outputs": [],
   "source": [
    "\n",
    "\n",
    "def extract_tables_from_pdf(pdf):\n",
    " \n",
    "    tables_folder = \"extracted_tables\" \n",
    "    os.makedirs(tables_folder, exist_ok=True)  # Ensure the folder exists\n",
    " \n",
    "    with pdfplumber.open(pdf) as pdf :\n",
    "        for page_number in range(len(pdf.pages)):\n",
    "            table=pdf.pages[page_number].extract_table()\n",
    "            if table:\n",
    "                df = pd.DataFrame(table[1::], columns=table[0])\n",
    "                # print(df)\n",
    "                csv_path = os.path.join(tables_folder, f\"table_page_{page_number}.csv\")\n",
    "                df.to_csv(csv_path, index= False)\n",
    "\n",
    "                \n",
    "           \n",
    "\n",
    "\n",
    "    \n",
    "# extract_tables_from_pdf()"
   ]
  },
  {
   "cell_type": "markdown",
   "metadata": {},
   "source": [
    "### Extract Text and Images from Pdf"
   ]
  },
  {
   "cell_type": "code",
   "execution_count": 42,
   "metadata": {},
   "outputs": [],
   "source": [
    "\n",
    "def extract_data_from_pdf(pdf):\n",
    "    images_folder = \"extracted_images\"\n",
    "    text_folder = \"extracted_text\"\n",
    "\n",
    "    # Ensure folder exist\n",
    "    for folder in [images_folder, text_folder]:\n",
    "        if not os.path.exists(folder):\n",
    "            os.makedirs(folder)\n",
    "\n",
    "    # reading pdf file\n",
    "    reader = PdfReader(pdf) \n",
    "    # Extract text from all pages\n",
    "    text_file_path = os.path.join(text_folder, f\"extracted_text.txt\")\n",
    "    with open(text_file_path,\"w\", encoding=\"utf-8\") as fp:\n",
    "        for page_number in range(len(reader.pages)):\n",
    "            page = reader.pages[page_number]\n",
    "            fp.write(f\"Page {page_number + 1}\\n\")\n",
    "            fp.write(page.extract_text())\n",
    "            fp.write(\"\\n\\n\")\n",
    "            \n",
    "            # Extract images from all pages\n",
    "            for count, image_file_object in enumerate(page.images):\n",
    "                image_file_path = os.path.join(images_folder, f\"page_{page_number + 1}_image_{count + 1}.png\")\n",
    "                with open(image_file_path, \"wb\") as img_fp:\n",
    "                    img_fp.write(image_file_object.data)\n",
    "    \n",
    "    extract_tables_from_pdf(pdf)\n",
    "    \n"
   ]
  },
  {
   "cell_type": "code",
   "execution_count": 43,
   "metadata": {},
   "outputs": [],
   "source": [
    "extract_data_from_pdf(\"./data/test.pdf\")\n"
   ]
  },
  {
   "cell_type": "markdown",
   "metadata": {},
   "source": [
    "### Text and Images using pyMuPdf"
   ]
  },
  {
   "cell_type": "code",
   "execution_count": 22,
   "metadata": {},
   "outputs": [],
   "source": [
    "import fitz  \n",
    "import os\n",
    "import pandas as pd\n",
    "\n",
    "def extract_pdf_content(pdf_path, output_folder):\n",
    "    os.makedirs(output_folder, exist_ok=True)\n",
    "    images_folder = os.path.join(output_folder)\n",
    "    os.makedirs(images_folder, exist_ok=True)\n",
    "\n",
    "    # Open the PDF\n",
    "    pdf_document = fitz.open(pdf_path)\n",
    "\n",
    "    text_data = []\n",
    "    for page_number in range(len(pdf_document)):\n",
    "        page = pdf_document[page_number]\n",
    "\n",
    "        # Extract text\n",
    "        text = page.get_text()\n",
    "        text_data.append(f\"--- Page {page_number + 1} ---\\n{text}\\n\")\n",
    "\n",
    "        # Extract images\n",
    "        for img_index, img in enumerate(page.get_images(full=True)):\n",
    "            xref = img[0]\n",
    "            base_image = pdf_document.extract_image(xref)\n",
    "            image_bytes = base_image[\"image\"]\n",
    "            image_ext = base_image[\"ext\"]\n",
    "            image_file_path = os.path.join(images_folder, f\"page_{page_number + 1}_image_{img_index + 1}.png\")\n",
    "            with open(image_file_path, \"wb\") as img_file:\n",
    "                img_file.write(image_bytes)\n",
    "                \n",
    "    # Save text to a file\n",
    "    text_file_path = os.path.join(output_folder, \"extracted_text.txt\")\n",
    "    with open(text_file_path, \"w\", encoding=\"utf-8\") as text_file:\n",
    "        text_file.writelines(text_data)\n",
    "\n",
    "\n",
    "# Usage\n",
    "extract_pdf_content(\"./data/NFC.pdf\", \"pymupdf\")\n"
   ]
  },
  {
   "cell_type": "markdown",
   "metadata": {},
   "source": [
    "#### Extract text , image and tabled from pdf using pdfplumber"
   ]
  },
  {
   "cell_type": "code",
   "execution_count": 19,
   "metadata": {},
   "outputs": [],
   "source": [
    "\n",
    "def extract_text_img_tables(pdf_path):\n",
    "    tables_folder = \"extracted_tables\" \n",
    "    text_folder = \"extracted_text\"\n",
    "    images_folder = \"extracted_images\"\n",
    "\n",
    "    os.makedirs(tables_folder, exist_ok=True)  # Ensure the folder exists\n",
    "\n",
    "    with pdfplumber.open(pdf_path) as pdf :\n",
    "        for page_number in range(len(pdf.pages)):\n",
    "            table=pdf.pages[page_number].extract_table()\n",
    "            if table:\n",
    "                df = pd.DataFrame(table[1::], columns=table[0])\n",
    "                # print(df)\n",
    "                csv_path = os.path.join(tables_folder, f\"table_page_{page_number}.csv\")\n",
    "                df.to_csv(csv_path, index= False)\n",
    "\n",
    "        text_file_path = os.path.join(text_folder, \"extracted_text.pdf\")\n",
    "        with open(text_file_path, \"w\", encoding=\"utf-8\") as text_file:\n",
    "            for page_number, page in enumerate(pdf.pages, start=1):\n",
    "                text = page.extract_text()\n",
    "                if text:\n",
    "                    # Write text to the output file\n",
    "                    text_file.write(f\"--- Page {page_number} ---\\n\")\n",
    "                    text_file.write(text)\n",
    "                    text_file.write(\"\\n\\n\")\n",
    "                \n",
    "                for count, image in enumerate(page.images):\n",
    "                    # if \"stream\" in image:\n",
    "                        image_data  = image[\"stream\"].get_data()\n",
    "                        if image_data:\n",
    "                            image_file_path = os.path.join(images_folder, f\"page_{page_number + 1}_image_{count + 1}.png\")   \n",
    "                            with open(image_file_path, \"wb\") as img_fp:\n",
    "                               img_fp.write(image_data)\n",
    "\n",
    "            "
   ]
  },
  {
   "cell_type": "code",
   "execution_count": 20,
   "metadata": {},
   "outputs": [],
   "source": [
    "extract_text_img_tables(\"./data/test.pdf\")"
   ]
  },
  {
   "cell_type": "code",
   "execution_count": null,
   "metadata": {},
   "outputs": [],
   "source": []
  },
  {
   "cell_type": "markdown",
   "metadata": {},
   "source": []
  },
  {
   "cell_type": "markdown",
   "metadata": {},
   "source": []
  }
 ],
 "metadata": {
  "kernelspec": {
   "display_name": ".venv",
   "language": "python",
   "name": "python3"
  },
  "language_info": {
   "codemirror_mode": {
    "name": "ipython",
    "version": 3
   },
   "file_extension": ".py",
   "mimetype": "text/x-python",
   "name": "python",
   "nbconvert_exporter": "python",
   "pygments_lexer": "ipython3",
   "version": "3.10.4"
  }
 },
 "nbformat": 4,
 "nbformat_minor": 2
}
